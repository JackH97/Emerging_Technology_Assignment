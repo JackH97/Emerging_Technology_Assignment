{
 "cells": [
  {
   "cell_type": "markdown",
   "metadata": {},
   "source": [
    "Task 3\n",
    "\n",
    "For Task 3 we had to find and explain why we decide to use STDEV.S instead of STDEV.P because STDEV.S is better for standard deviation of population because there is minimal risk on the result on agressive data.\n",
    "\n",
    "The Differences between both:\n",
    "\n",
    "STDEV.P function is used when your data represents the entire population. For the squared deviation \n",
    "it is divided by the total number of sample -1. It is represented as N.\n",
    "<img src=\"Images/STDEVp.png\">\n",
    "\n",
    "STDEV.S function is used when your data is a sample of the entire population. For the squared deviation,\n",
    "it is divided by the total number of arguments, mostly represented as N-1.\n",
    "<img src=\"Images/STDEVs.png\">\n"
   ]
  },
  {
   "cell_type": "markdown",
   "metadata": {},
   "source": [
    "References:\n",
    "\n",
    "To explain differences between both:\n",
    "\n",
    "https://www.khanacademy.org/math/statistics-probability/summarizing-quantitative-data/variance-standard-deviation-sample/a/population-and-sample-standard-deviation-review#:~:text=Standard%20deviation%20measures%20the%20spread%20of%20a%20data%20distribution.&text=If%20the%20data%20is%20being,n%2D1%20n%E2%88%921%20.\n",
    "\n",
    "Figuring out the functions work in microsoft excel: \n",
    "\n",
    "https://www.exceltip.com/statistical-formulas/how-to-use-stdev-s-function-in-excel.html\n",
    "\n",
    "+\n",
    "\n",
    "https://www.exceltip.com/statistical-formulas/how-to-use-excel-stdev-p-function.html\n",
    "\n",
    "Understanding numpy and using it for the task:\n",
    "\n",
    "https://numpy.org/doc/stable/reference/generated/numpy.std.html"
   ]
  },
  {
   "cell_type": "code",
   "execution_count": 1,
   "metadata": {},
   "outputs": [
    {
     "name": "stdout",
     "output_type": "stream",
     "text": [
      "Standard Deviation - Population:  16.686284750220228\n",
      "Standard Deviation.P - sample:  15.370426148939398\n",
      "Standard Deviation.S - sample:  15.337861650177967\n"
     ]
    }
   ],
   "source": [
    "import numpy as np\n",
    "\n",
    "population = np.array([3,7,9,12,15,18,21,27,29,33,35,36,42,45,47,51,54,58])\n",
    "sample = np.array([9,18,27,36,45,54])\n",
    " \n",
    "#STDEV.P with population data\n",
    "pop = np.sqrt(np.sum((population - np.mean(population))**2)/len(population))\n",
    "# STDEV.P with sample data\n",
    "STDEVp = np.sqrt(np.sum((sample - np.mean(sample))**2)/len(sample)) \n",
    "# STDEV.S with sample data\n",
    "STDEVs = np.sqrt(np.sum((sample - np.mean(sample))**2)/len(sample)-1) \n",
    "\n",
    "print(\"Standard Deviation - Population: \", pop)\n",
    "print(\"Standard Deviation.P - sample: \", STDEVp)\n",
    "print(\"Standard Deviation.S - sample: \", STDEVs)"
   ]
  }
 ],
 "metadata": {
  "kernelspec": {
   "display_name": "Python 3",
   "language": "python",
   "name": "python3"
  },
  "language_info": {
   "codemirror_mode": {
    "name": "ipython",
    "version": 3
   },
   "file_extension": ".py",
   "mimetype": "text/x-python",
   "name": "python",
   "nbconvert_exporter": "python",
   "pygments_lexer": "ipython3",
   "version": "3.8.3"
  }
 },
 "nbformat": 4,
 "nbformat_minor": 4
}
