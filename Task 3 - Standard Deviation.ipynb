{
 "cells": [
  {
   "cell_type": "code",
   "execution_count": null,
   "metadata": {},
   "outputs": [],
   "source": [
    "For this Task we had to find and explain why \n",
    "we decide to use STDEV.S instead of STDEV.P \n",
    "because STDEV.S is better for standard deviation \n",
    "of population because there is minimal risk on \n",
    "the result on agressive data.\n",
    "\n",
    "The Differences between both:\n",
    "STDEV.S function is used when your data is a sample of the entire population. For the squared deviation,\n",
    "it is divided by the total number of arguments, mostly represented as N.\n",
    "STDEV.P function is used when your data represents the entire population. For the squared deviation \n",
    "it is divided by the total number of sample -1. It is represented as N-1.\n",
    "\n",
    "\n"
   ]
  },
  {
   "cell_type": "code",
   "execution_count": 20,
   "metadata": {},
   "outputs": [
    {
     "name": "stdout",
     "output_type": "stream",
     "text": [
      "15.370426148939398\n",
      "15.337861650177967\n"
     ]
    }
   ],
   "source": [
    "import numpy as np\n",
    "\n",
    "equt = np.array([9,18,27,36,45,54])\n",
    "# STDEV.P\n",
    "eqt1 = np.sqrt(np.sum((equt - np.mean(equt))**2)/len(equt)) \n",
    "# STDEV.S \n",
    "eqt2 = np.sqrt(np.sum((equt - np.mean(equt))**2)/len(equt)-1) \n",
    "\n",
    "print(eqt1)\n",
    "print(eqt2)"
   ]
  },
  {
   "cell_type": "code",
   "execution_count": null,
   "metadata": {},
   "outputs": [],
   "source": []
  }
 ],
 "metadata": {
  "kernelspec": {
   "display_name": "Python 3",
   "language": "python",
   "name": "python3"
  },
  "language_info": {
   "codemirror_mode": {
    "name": "ipython",
    "version": 3
   },
   "file_extension": ".py",
   "mimetype": "text/x-python",
   "name": "python",
   "nbconvert_exporter": "python",
   "pygments_lexer": "ipython3",
   "version": "3.8.3"
  }
 },
 "nbformat": 4,
 "nbformat_minor": 4
}
