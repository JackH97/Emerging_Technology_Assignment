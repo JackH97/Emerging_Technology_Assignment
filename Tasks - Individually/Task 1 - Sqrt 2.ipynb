{
 "cells": [
  {
   "cell_type": "markdown",
   "metadata": {},
   "source": [
    "# Task 1\n",
    "\n",
    "<ul>\n",
    "<li>For the first task of the assignment we had to write a python function that calculates and prints the square root of 2 to 100 decimal places.<br> When seeing that sentence at first it seems ok to create if you use the libraries python has to do it but for this assignment we were told not to use any module from the standard python library.</li>\n",
    "\n",
    "<li>So for my way of thinking and doing this task i researched different ways but a lot were coming up with doing it using the math import library which was against the rules so i decided then to do it the following way\n",
    "I created a variable called 'x' and equals to 2 and then get the square root of this variable by multiplying it by 0.5 and then this will give the answer 1.41 in 2 decimal places.</li>\n",
    "\n",
    "<li>Then after this i set out doing the code by creating a new variable call 'g' which has a multiplication of 10 x 100 in it which is the maths method for googol which stands for the digit 1 followed by 100 zeros.</li>\n",
    "\n",
    "<li>Then we create the while loop for a better and more accurate result for the square root and this involves doing division also specifically floor division to return the largest possible integer.</li>\n",
    "\n",
    "<li>After this i then go about outputting the value we got by creating a list storing the 'g' variable to a new variable called 'store2' and then create the inseration of the decimal point after the number 1 but then have to join the rest of the numbers in 'store2' by creating a new variable called 'out_sqrt' and this will give me my result for the square root of 2 outputted to 100 decimal places.</li>\n",
    "</ul>"
   ]
  },
  {
   "cell_type": "markdown",
   "metadata": {},
   "source": [
    "<h1>References:</h1>\n",
    "\n",
    "1. Floor division explantation: https://www.educative.io/edpresso/floor-division \n",
    "\n",
    "2. Doing task without pre defined functions in python(Gave me some inspiration into going about the task):           https://www.iditect.com/how-to/59339466.html \n",
    "\n",
    "3. To setup result after floor division and outputting result: https://stackoverflow.com/questions/53976250/how-to-add-dot-separator-on-different-positions-of-a-number-in-python  \n",
    "\n",
    "4. How to do square root function: https://stackoverflow.com/questions/9595135/how-do-i-calculate-square-root-in-python \n",
    "\n",
    "5. Explaining googol and how it works:https://en.wikipedia.org/wiki/Googol  "
   ]
  },
  {
   "cell_type": "code",
   "execution_count": 5,
   "metadata": {},
   "outputs": [],
   "source": [
    "def sqrt2():\n",
    "    # X is declared a variable\n",
    "    x = 2\n",
    "    # Squares the \"x\" variable with the equation\n",
    "    y = x ** .5\n",
    "    # Outputs the square root of 2 with the variable \"y\"\n",
    "    print('The square root of the number 2 is %0.2f'%(y))\n",
    "    \n",
    "    # I use variable called 'g' for the math term googol for 10 to the power of 100\n",
    "    # and with doing this i multiply then to get the value to be pushed to the left\n",
    "    # side of the decimal place. Then i have a variable called 'store' to hold the number 0\n",
    "    # to have better accuracy in the while loop\n",
    "    g = 10**100\n",
    "    sd = x *(g**2)\n",
    "    store = 0\n",
    "    \n",
    "    # A while loop to increase the accuracy of the number being squared \n",
    "    while store != g:\n",
    "        # Setting the variable 'store' to be the same as the variable \"g\"\n",
    "        store = g\n",
    "        # Here is where we do division for a better result\n",
    "        g = (store + (sd//store)) >> 1\n",
    "        \n",
    "    # Here i convert my \"g\" variable with the value to a string \n",
    "    store2 = list(str(g))\n",
    "    \n",
    "    # searches the 'store2' variable that has stored the value of the variable 'g' above for \n",
    "    # the number after as its the first number after the decimal point in the square root of 2\n",
    "    store2.insert(1, '.')\n",
    "    \n",
    "    # Then when the decimal point is inserted after the number 1\n",
    "    # we then attach the rest of the variable 'store2' \n",
    "    # to the to give us the square root of 2 to 100 decimal places\n",
    "    out_sqrt = ''.join(store2)\n",
    "    \n",
    "    # Prints out the square root of 2 to 100 decimal places\n",
    "    print('the square root of 2 to 100 decimal places is:', out_sqrt)\n",
    "    "
   ]
  },
  {
   "cell_type": "code",
   "execution_count": 6,
   "metadata": {},
   "outputs": [
    {
     "name": "stdout",
     "output_type": "stream",
     "text": [
      "The square root of the number 2 is 1.41\n",
      "the square root of 2 to 100 decimal places is: 1.4142135623730950488016887242096980785696718753769480731766797379907324784621070388503875343276415727\n"
     ]
    }
   ],
   "source": [
    "sqrt2()"
   ]
  }
 ],
 "metadata": {
  "kernelspec": {
   "display_name": "Python 3",
   "language": "python",
   "name": "python3"
  },
  "language_info": {
   "codemirror_mode": {
    "name": "ipython",
    "version": 3
   },
   "file_extension": ".py",
   "mimetype": "text/x-python",
   "name": "python",
   "nbconvert_exporter": "python",
   "pygments_lexer": "ipython3",
   "version": "3.8.3"
  }
 },
 "nbformat": 4,
 "nbformat_minor": 4
}
