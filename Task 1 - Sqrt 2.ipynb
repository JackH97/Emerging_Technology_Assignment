{
 "cells": [
  {
   "cell_type": "code",
   "execution_count": 35,
   "metadata": {},
   "outputs": [],
   "source": [
    "def function():\n",
    "    # x is declared a variable\n",
    "    x = 2\n",
    "    #squares the \"x\" variable with the equation\n",
    "    y = x ** .5\n",
    "    #outputs the square root of 2 with the variable \"y\"\n",
    "    print('The square root of the number 2 is %0.3f'%(y))\n",
    "    \n",
    "    # i use this for the math term googol for 10 to the power of 100\n",
    "    # and with doing this i multiply \n",
    "    g = 10**100\n",
    "    sd =x *(g**2)\n",
    "    holder = 0\n",
    "    \n",
    "    #loop to increase the accuracy of the number being squared \n",
    "    while holder != g:\n",
    "        #setting the holder to be the same as the variable \"g\"\n",
    "        holder = g\n",
    "        #Here is where we do floor division\n",
    "        g = (holder+(sd//holder)) >> 1\n",
    "        \n",
    "    #here i convert my \"g\" variable with the value to a string \n",
    "    squares = str(g)\n",
    "    \n",
    "    #searches the string above for the number 4 as its \n",
    "    #the first number after the decimal point in the square root of 2\n",
    "    indexed = squares.find('4')\n",
    "    \n",
    "    #Then when the index is found we put a decimal point in before the 4\n",
    "    out_sqrt = squares[:indexed] + '.' + squares[indexed:]\n",
    "    \n",
    "    #Prints out the square root of 2 to 100 decimal places\n",
    "    print('the square root of 2 to 100 decimal places is:')\n",
    "    print(out_sqrt)"
   ]
  },
  {
   "cell_type": "code",
   "execution_count": 36,
   "metadata": {},
   "outputs": [
    {
     "name": "stdout",
     "output_type": "stream",
     "text": [
      "The square root of the number 2 is 1.414\n",
      "the square root of 2 to 100 decimal places is:\n",
      "1.4142135623730950488016887242096980785696718753769480731766797379907324784621070388503875343276415727\n"
     ]
    }
   ],
   "source": [
    "function()"
   ]
  },
  {
   "cell_type": "code",
   "execution_count": null,
   "metadata": {},
   "outputs": [],
   "source": []
  }
 ],
 "metadata": {
  "kernelspec": {
   "display_name": "Python 3",
   "language": "python",
   "name": "python3"
  },
  "language_info": {
   "codemirror_mode": {
    "name": "ipython",
    "version": 3
   },
   "file_extension": ".py",
   "mimetype": "text/x-python",
   "name": "python",
   "nbconvert_exporter": "python",
   "pygments_lexer": "ipython3",
   "version": "3.8.3"
  }
 },
 "nbformat": 4,
 "nbformat_minor": 4
}
