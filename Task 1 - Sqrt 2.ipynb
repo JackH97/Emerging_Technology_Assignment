{
 "cells": [
  {
   "cell_type": "code",
   "execution_count": 26,
   "metadata": {},
   "outputs": [],
   "source": [
    "def function():\n",
    "    #nums is declared a variable\n",
    "    nums = 2\n",
    "    #squares the \"nums\" variable with the equation\n",
    "    nums2 = nums ** .5\n",
    "    #outputs the square root of 2 with the variable \"num_squared\"\n",
    "    print('The square root of the number 2 is %0.3f'%(nums2))\n",
    "    \n",
    "    \n",
    "    googol = 10**100\n",
    "    squarednum=nums *(googol**2)\n",
    "    holder = 0\n",
    "    \n",
    "    #loop to increase the accuracy\n",
    "    while holder != googol:\n",
    "        holder = googol\n",
    "        googol = (holder+(squarednum//holder)) >> 1\n",
    "        \n",
    "    #here i convert my googol variable with the value to a string \n",
    "    squares = str(googol)\n",
    "    indexed = squares.find('4')\n",
    "    out_sqrt = squares[:indexed] + '.' + squares[indexed:]\n",
    "    print('the square root of 2 to 100 decimal places is:')\n",
    "    print(out_sqrt)"
   ]
  },
  {
   "cell_type": "code",
   "execution_count": 27,
   "metadata": {},
   "outputs": [
    {
     "name": "stdout",
     "output_type": "stream",
     "text": [
      "The square root of the number 2 is 1.414\n",
      "the square root of 2 to 100 decimal places is:\n",
      "1.4142135623730950488016887242096980785696718753769480731766797379907324784621070388503875343276415727\n"
     ]
    }
   ],
   "source": [
    "function()"
   ]
  },
  {
   "cell_type": "code",
   "execution_count": null,
   "metadata": {},
   "outputs": [],
   "source": []
  }
 ],
 "metadata": {
  "kernelspec": {
   "display_name": "Python 3",
   "language": "python",
   "name": "python3"
  },
  "language_info": {
   "codemirror_mode": {
    "name": "ipython",
    "version": 3
   },
   "file_extension": ".py",
   "mimetype": "text/x-python",
   "name": "python",
   "nbconvert_exporter": "python",
   "pygments_lexer": "ipython3",
   "version": "3.8.3"
  }
 },
 "nbformat": 4,
 "nbformat_minor": 4
}
