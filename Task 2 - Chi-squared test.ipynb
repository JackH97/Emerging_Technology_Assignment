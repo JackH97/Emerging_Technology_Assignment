{
 "cells": [
  {
   "cell_type": "markdown",
   "metadata": {},
   "source": [
    "# Task 2\n",
    "<ul>\n",
    "<li>For task 2 we had to do a Chi-Squared test to see if the value in the information given to us was approximately 24.6 and while using scipy.stats verifying the value and also calculating the p value and more values. </li>\n",
    "\n",
    "<li>The Chi-Squared test compares variables in a contingency table to see if they are related and tests to see whether distributions of categorical variables differ from each another.</li>\n",
    "\n",
    "To calculate using the Chi-Squared formula we use the following image:\n",
    "<img src=\"Images/Task2-formula.jpg\">\n",
    "\n",
    "The values given to us for the task were as follows: \n",
    "<img src=\"Images/Task2-Values.jpg\">\n",
    "    \n",
    "</ul>"
   ]
  },
  {
   "cell_type": "markdown",
   "metadata": {},
   "source": [
    "# References: \n",
    "\n",
    "1. For a understanding of the Chi-Squared Test and the formula: https://www.statisticshowto.com/probability-and-statistics/chi-square/\n",
    "\n",
    "2. To explain the coding part of it and using the scipy.stats: https://docs.scipy.org/doc/scipy/reference/generated/scipy.stats.chi2_contingency.html \n"
   ]
  },
  {
   "cell_type": "code",
   "execution_count": 1,
   "metadata": {},
   "outputs": [],
   "source": [
    "#import needed as stated in brief\n",
    "import scipy.stats as stats\n",
    "\n",
    "#Data that was given to us to use for task\n",
    "data = [90, 60, 104, 95], [30, 50, 51, 20], [30, 40, 45, 35]\n",
    "\n",
    "#functions for chi2 function\n",
    "x, p, dof, expt = stats.chi2_contingency(data)"
   ]
  },
  {
   "cell_type": "code",
   "execution_count": 2,
   "metadata": {},
   "outputs": [
    {
     "name": "stdout",
     "output_type": "stream",
     "text": [
      "Chi-Squared Value: 24.5712028585826\n"
     ]
    }
   ],
   "source": [
    "#Output the chi value\n",
    "print(\"Chi-Squared Value:\", x)"
   ]
  },
  {
   "cell_type": "code",
   "execution_count": 3,
   "metadata": {},
   "outputs": [
    {
     "name": "stdout",
     "output_type": "stream",
     "text": [
      "P-Value of test: 0.0004098425861096696\n"
     ]
    }
   ],
   "source": [
    "#Output the P-Value\n",
    "print(\"P-Value of test:\", p)"
   ]
  },
  {
   "cell_type": "code",
   "execution_count": 4,
   "metadata": {},
   "outputs": [
    {
     "name": "stdout",
     "output_type": "stream",
     "text": [
      "Degrees of freedom: 6\n"
     ]
    }
   ],
   "source": [
    "#Output degree Value\n",
    "print(\"Degrees of freedom:\", dof)"
   ]
  },
  {
   "cell_type": "code",
   "execution_count": 5,
   "metadata": {},
   "outputs": [
    {
     "name": "stdout",
     "output_type": "stream",
     "text": [
      "Expected\n",
      "[[ 80.53846154  80.53846154 107.38461538  80.53846154]\n",
      " [ 34.84615385  34.84615385  46.46153846  34.84615385]\n",
      " [ 34.61538462  34.61538462  46.15384615  34.61538462]]\n"
     ]
    }
   ],
   "source": [
    "#Output expected value\n",
    "print(\"Expected\")\n",
    "print(expt)"
   ]
  }
 ],
 "metadata": {
  "kernelspec": {
   "display_name": "Python 3",
   "language": "python",
   "name": "python3"
  },
  "language_info": {
   "codemirror_mode": {
    "name": "ipython",
    "version": 3
   },
   "file_extension": ".py",
   "mimetype": "text/x-python",
   "name": "python",
   "nbconvert_exporter": "python",
   "pygments_lexer": "ipython3",
   "version": "3.8.3"
  }
 },
 "nbformat": 4,
 "nbformat_minor": 4
}
